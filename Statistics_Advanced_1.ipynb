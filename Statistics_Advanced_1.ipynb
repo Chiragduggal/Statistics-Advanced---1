{
  "nbformat": 4,
  "nbformat_minor": 0,
  "metadata": {
    "colab": {
      "provenance": []
    },
    "kernelspec": {
      "name": "python3",
      "display_name": "Python 3"
    },
    "language_info": {
      "name": "python"
    }
  },
  "cells": [
    {
      "cell_type": "markdown",
      "source": [
        "1. What is a random variable in probability theory ?"
      ],
      "metadata": {
        "id": "NpVDtGpOFzX4"
      }
    },
    {
      "cell_type": "markdown",
      "source": [
        "- In probability theory, a random variable is a function that provides a numerical value to each possible outcome of a random experiment, allowing us to scientifically quantify and analyse uncertainty. A random variable's value is not fixed but varies on the outcome of the experiment, hence the term \"random.\" For example, if you roll a six-sided die, you can define a random variable X as the number that appears on the die; X can take any value from 1 to 6, each with a specific probability. Random variables might be discrete, accepting just countable values, or continuous, taking values from a specific range or interval of real numbers. They lay the groundwork for defining probability distributions, expectations, variances, and a variety of other statistical measurements."
      ],
      "metadata": {
        "id": "l4oB7I_0F-Co"
      }
    },
    {
      "cell_type": "markdown",
      "source": [
        "2.  What are the types of random variables ?"
      ],
      "metadata": {
        "id": "vEBfX_0SGUdx"
      }
    },
    {
      "cell_type": "markdown",
      "source": [
        "- Random variables are often categorised into two types: discrete and continuous. A discrete random variable has a countable number of different values, such as integers or finite outcomes, which are frequently derived from counting operations; for example, the number of heads in a coin flip or the number of customers who arrive at a business in an hour. In contrast, a continuous random variable can take any value within a specific interval of real numbers, usually as a result of measurements; examples include a person's height, the time it takes to perform a task, or the temperature in a city. The difference is in the nature of the available values: discrete variables deal with independent, distinct outcomes, whereas continuous variables cover a smooth, unbroken range of values."
      ],
      "metadata": {
        "id": "M1KEzHBiGcd-"
      }
    },
    {
      "cell_type": "markdown",
      "source": [
        "3.  Explain the difference between discrete and continuous distributions."
      ],
      "metadata": {
        "id": "LwiVK13FGv7Y"
      }
    },
    {
      "cell_type": "markdown",
      "source": [
        "- The primary distinction between discrete and continuous probability distributions is the range of values their random variables can take. A discrete distribution represents the probabilities of a discrete random variable, which can only take specified, countable values, such as integers or limited outcomes; for example, the binomial distribution predicts the likelihood of a set number of wins in a given number of tries. In contrast, a continuous distribution describes the probabilities of a continuous random variable, which can take any value within a given interval or range of real numbers; because there are infinitely many possible values, the probability of the variable taking an exact value is zero, so probabilities are calculated over intervals. Examples of continuous distributions include the normal distribution, which models phenomena like heights or test scores, and the exponential distribution, which models waiting times."
      ],
      "metadata": {
        "id": "HqzeNOMdG0q-"
      }
    },
    {
      "cell_type": "markdown",
      "source": [
        "4. What is a binomial distribution, and how is it used in probability ?"
      ],
      "metadata": {
        "id": "0QvpVnnxHOn4"
      }
    },
    {
      "cell_type": "markdown",
      "source": [
        "- A binomial distribution is a discrete probability distribution that describes the likelihood of obtaining a fixed number of successes in a set number of independent trials, where each trial has only two possible outcomes—commonly referred to as \"success\" and \"failure\"—and the probability of success remains constant for each trial. It is characterised by two variables: n, the number of trials, and p, the chance of success in each trial. The binomial distribution is commonly used in probability and statistics to describe situations such as the number of heads in multiple coin tosses, the number of defective items in a batch, or the number of customers purchasing from a specific group. It provides a way to calculate exact probabilities for different counts of successes, as well as to analyze patterns, make predictions, and test hypotheses in real-world scenarios."
      ],
      "metadata": {
        "id": "1AJtks8JH1e4"
      }
    },
    {
      "cell_type": "markdown",
      "source": [
        "5. What is the standard normal distribution, and why is it important ?"
      ],
      "metadata": {
        "id": "2dzNHGTNIugm"
      }
    },
    {
      "cell_type": "markdown",
      "source": [
        "- The standard normal distribution is a variant of the normal distribution that has a mean of zero and a standard deviation of one, resulting in a perfectly symmetric, bell-shaped curve centred at zero. It is significant because it serves as a reference distribution in statistics, allowing probabilities and critical values to be calculated using standardised z-scores, which measure how many standard deviations a number is from its mean. Statisticians can readily compare data from diverse sources, test hypotheses, and compute confidence intervals using standard normal tables after transforming any normal distribution to the standard normal using the z-score transformation. Its simplicity and universality make it an essential component of probability theory and inferential statistics."
      ],
      "metadata": {
        "id": "ys2wz7X-IyAD"
      }
    },
    {
      "cell_type": "markdown",
      "source": [
        "6. What is the Central Limit Theorem (CLT), and why is it critical in statistics ?"
      ],
      "metadata": {
        "id": "l22rlWkRJP6X"
      }
    },
    {
      "cell_type": "markdown",
      "source": [
        "- The Central Limit Theorem (CLT) states that, regardless of the shape of the original population distribution, the sampling distribution of the sample mean will approximate a normal distribution as the sample size becomes large, provided the samples are independent and identically distributed. This theorem is critical in statistics because it justifies the use of normal probability models for inference, even when dealing with non-normally distributed populations. It enables statisticians to apply techniques like hypothesis testing and confidence interval estimation using the normal distribution, simplifying analysis and making results more reliable. The CLT is the foundation for much of inferential statistics, as it bridges the gap between real-world data and theoretical probability models."
      ],
      "metadata": {
        "id": "-PQQgTxnJV0f"
      }
    },
    {
      "cell_type": "markdown",
      "source": [
        "7. What is the significance of confidence intervals in statistical analysis ?"
      ],
      "metadata": {
        "id": "CCfSt0KQJlIs"
      }
    },
    {
      "cell_type": "markdown",
      "source": [
        "- In statistical analysis, a confidence interval provides a range of values within which the true population parameter is likely to lie, based on sample data, along with a specified level of confidence (such as 95% or 99%). Rather than giving a single point estimate, a confidence interval reflects the uncertainty inherent in sampling and offers a measure of precision for the estimate. For example, a 95% confidence interval for a mean suggests that if the same sampling process were repeated many times, approximately 95% of the calculated intervals would contain the true population mean. Confidence intervals are significant because they help researchers make informed conclusions, quantify uncertainty, and assess the reliability of their results in a way that a single estimate cannot."
      ],
      "metadata": {
        "id": "ygdQnUcHJzT_"
      }
    },
    {
      "cell_type": "markdown",
      "source": [
        "8. What is the concept of expected value in a probability distribution ?"
      ],
      "metadata": {
        "id": "fQnvwUwSJ8n3"
      }
    },
    {
      "cell_type": "markdown",
      "source": [
        "- In probability theory, the expected value of a random variable is the long-run average or mean value it would take over a large number of repetitions of the underlying experiment. It is calculated by multiplying each possible outcome by its probability and then summing these products for discrete variables, or by integrating the product of the variable and its probability density function for continuous variables. The expected value represents the “center” or “balance point” of the probability distribution and provides a single summary measure of the distribution’s tendency. For example, in rolling a fair six-sided die, the expected value is (1+2+3+4+5+6)/6 = 3.5, meaning that over many rolls, the average result will approach 3.5. This concept is fundamental in decision-making, risk analysis, and various applications in statistics, economics, and game theory."
      ],
      "metadata": {
        "id": "lscQiy5jKCPj"
      }
    },
    {
      "cell_type": "markdown",
      "source": [
        "9. Write a Python program to generate 1000 random numbers from a normal\n",
        "distribution with mean = 50 and standard deviation = 5. Compute its mean and standard\n",
        "deviation."
      ],
      "metadata": {
        "id": "MZB7KZpnKSzF"
      }
    },
    {
      "cell_type": "markdown",
      "source": [
        "- Here’s the Python program that does exactly that:"
      ],
      "metadata": {
        "id": "sK9yrK2oK3zD"
      }
    },
    {
      "cell_type": "code",
      "source": [
        "import numpy as np\n",
        "import matplotlib.pyplot as plt\n",
        "\n",
        "# Set parameters\n",
        "mean = 50\n",
        "std_dev = 5\n",
        "size = 1000\n",
        "\n",
        "# Generate 1000 random numbers from a normal distribution\n",
        "data = np.random.normal(mean, std_dev, size)\n",
        "\n",
        "# Compute mean and standard deviation\n",
        "calculated_mean = np.mean(data)\n",
        "calculated_std = np.std(data)\n",
        "\n",
        "# Print results\n",
        "print(f\"Calculated Mean: {calculated_mean:.2f}\")\n",
        "print(f\"Calculated Standard Deviation: {calculated_std:.2f}\")\n",
        "\n",
        "# Draw histogram\n",
        "plt.hist(data, bins=30, edgecolor='black', alpha=0.7)\n",
        "plt.title(\"Histogram of Normal Distribution (Mean=50, SD=5)\")\n",
        "plt.xlabel(\"Value\")\n",
        "plt.ylabel(\"Frequency\")\n",
        "plt.grid(axis='y', alpha=0.75)\n",
        "plt.show()"
      ],
      "metadata": {
        "colab": {
          "base_uri": "https://localhost:8080/",
          "height": 508
        },
        "id": "w1SX6sYBK7w8",
        "outputId": "21b9ea12-e559-462b-e72c-27d2f85d53de"
      },
      "execution_count": 1,
      "outputs": [
        {
          "output_type": "stream",
          "name": "stdout",
          "text": [
            "Calculated Mean: 49.81\n",
            "Calculated Standard Deviation: 4.94\n"
          ]
        },
        {
          "output_type": "display_data",
          "data": {
            "text/plain": [
              "<Figure size 640x480 with 1 Axes>"
            ],
            "image/png": "[encoded data removed]"
          },
          "metadata": {}
        }
      ]
    },
    {
      "cell_type": "markdown",
      "source": [
        "10. You are working as a data analyst for a retail company. The company has\n",
        "collected daily sales data for 2 years and wants you to identify the overall sales trend.\n",
        "daily_sales = [220, 245, 210, 265, 230, 250, 260, 275, 240, 255,\n",
        " 235, 260, 245, 250, 225, 270, 265, 255, 250, 260]\n",
        "● Explain how you would apply the Central Limit Theorem to estimate the average sales\n",
        "with a 95% confidence interval.\n",
        "● Write the Python code to compute the mean sales and its confidence interval."
      ],
      "metadata": {
        "id": "D4L5omK1N97k"
      }
    },
    {
      "cell_type": "markdown",
      "source": [
        "- Here’s how to approach it step-by-step:\n",
        "\n",
        "⸻\n",
        "\n",
        "Applying the Central Limit Theorem (CLT)\n",
        "\n",
        "The Central Limit Theorem tells us that if we take repeated random samples of a given size from a population, the distribution of the sample means will tend toward a normal distribution as the sample size increases, regardless of the population’s original distribution.\n",
        "\n",
        "For your case:\n",
        "\t•\tWe have daily sales data for a certain period (20 days in the provided list).\n",
        "\t•\tEven if the underlying daily sales distribution is not perfectly normal, the sampling distribution of the mean can be treated as approximately normal because of CLT.\n",
        "\t•\tThis allows us to use the t-distribution (since the sample size is small and population standard deviation is unknown) to calculate a 95% confidence interval for the average daily sales."
      ],
      "metadata": {
        "id": "guVWQYrDODCE"
      }
    },
    {
      "cell_type": "code",
      "source": [
        "import numpy as np\n",
        "import scipy.stats as stats\n",
        "\n",
        "# Daily sales data\n",
        "daily_sales = [220, 245, 210, 265, 230, 250, 260, 275, 240, 255,\n",
        "               235, 260, 245, 250, 225, 270, 265, 255, 250, 260]\n",
        "\n",
        "# Convert to NumPy array\n",
        "sales_array = np.array(daily_sales)\n",
        "\n",
        "# Calculate mean and standard error\n",
        "mean_sales = np.mean(sales_array)\n",
        "std_err = stats.sem(sales_array)  # Standard error of the mean\n",
        "\n",
        "# 95% confidence interval using t-distribution\n",
        "confidence_level = 0.95\n",
        "df = len(sales_array) - 1  # degrees of freedom\n",
        "confidence_interval = stats.t.interval(confidence_level, df, loc=mean_sales, scale=std_err)\n",
        "\n",
        "# Output results\n",
        "print(f\"Mean Daily Sales: {mean_sales:.2f}\")\n",
        "print(f\"95% Confidence Interval: {confidence_interval}\")"
      ],
      "metadata": {
        "colab": {
          "base_uri": "https://localhost:8080/"
        },
        "id": "SZTi34t1OKSj",
        "outputId": "eca46872-1be1-4eb0-ba6c-29ccdf790746"
      },
      "execution_count": 2,
      "outputs": [
        {
          "output_type": "stream",
          "name": "stdout",
          "text": [
            "Mean Daily Sales: 248.25\n",
            "95% Confidence Interval: (np.float64(240.16957025147158), np.float64(256.3304297485284))\n"
          ]
        }
      ]
    }
  ]
}